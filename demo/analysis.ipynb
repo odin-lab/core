{
 "cells": [
  {
   "cell_type": "code",
   "execution_count": 10,
   "metadata": {},
   "outputs": [
    {
     "name": "stdout",
     "output_type": "stream",
     "text": [
      "/Users/luca/dev/odin/core\n"
     ]
    }
   ],
   "source": [
    "import os\n",
    "# log pwd\n",
    "print(os.getcwd())\n",
    "\n"
   ]
  },
  {
   "cell_type": "code",
   "execution_count": 11,
   "metadata": {},
   "outputs": [
    {
     "data": {
      "text/plain": [
       "[PosixPath('demo/.recordings/recording_puckmf_1749134977.pkl'),\n",
       " PosixPath('demo/.recordings/recording_puckmf_1749134976.pkl'),\n",
       " PosixPath('demo/.recordings/recording_puckmf_1749134974.pkl'),\n",
       " PosixPath('demo/.recordings/recording_puckmf_1749134975.pkl'),\n",
       " PosixPath('demo/.recordings/recording_puckmf_1749134971.pkl'),\n",
       " PosixPath('demo/.recordings/recording_puckmf_1749134970.pkl'),\n",
       " PosixPath('demo/.recordings/recording_puckmf_1749134972.pkl'),\n",
       " PosixPath('demo/.recordings/recording_puckmf_1749134973.pkl'),\n",
       " PosixPath('demo/.recordings/recording_puckmf_1749134981.pkl'),\n",
       " PosixPath('demo/.recordings/recording_puckmf_1749134995.pkl'),\n",
       " PosixPath('demo/.recordings/recording_puckmf_1749134994.pkl'),\n",
       " PosixPath('demo/.recordings/recording_puckmf_1749134980.pkl'),\n",
       " PosixPath('demo/.recordings/recording_puckmf_1749134969.pkl'),\n",
       " PosixPath('demo/.recordings/recording_puckmf_1749134996.pkl'),\n",
       " PosixPath('demo/.recordings/recording_puckmf_1749134982.pkl'),\n",
       " PosixPath('demo/.recordings/recording_puckmf_1749134983.pkl'),\n",
       " PosixPath('demo/.recordings/recording_puckmf_1749134968.pkl'),\n",
       " PosixPath('demo/.recordings/recording_puckmf_1749134978.pkl'),\n",
       " PosixPath('demo/.recordings/recording_puckmf_1749134993.pkl'),\n",
       " PosixPath('demo/.recordings/recording_puckmf_1749134992.pkl'),\n",
       " PosixPath('demo/.recordings/recording_puckmf_1749134979.pkl'),\n",
       " PosixPath('demo/.recordings/recording_puckmf_1749134984.pkl'),\n",
       " PosixPath('demo/.recordings/recording_puckmf_1749134990.pkl'),\n",
       " PosixPath('demo/.recordings/recording_puckmf_1749134991.pkl')]"
      ]
     },
     "execution_count": 11,
     "metadata": {},
     "output_type": "execute_result"
    }
   ],
   "source": [
    "import pickle\n",
    "from pathlib import Path\n",
    "\n",
    "# load recordings/recording_puckmf_1749134996.pkl\n",
    "\n",
    "path = Path(\"./demo/.recordings\")\n",
    "\n",
    "list(path.glob(\"*.pkl\"))\n"
   ]
  },
  {
   "cell_type": "code",
   "execution_count": 12,
   "metadata": {},
   "outputs": [
    {
     "name": "stdout",
     "output_type": "stream",
     "text": [
      "audio {\n",
      "  audio_data: \"\\301\\3708O\\371\\377jd\\021\\373\\344(\\370\\377=\\025\\274\\373\\010\\206\\367\\377\\356:\\370\\371<\\376\\372\\377&C\\351\\366\\230\\221\\372\\377\\333\\324S\\365x\\375\\371\\377\\246\\023Z\\363<\\250\\370\\377\\300\\336\\030\\3634\\350\\374\\377i\\365\\334\\365\\344\\243\\375\\377\\177\\377\\327\\371\\004\\375\\376\\377\\235<r\\374l\\300\\377\\377\\310$u\\376\\240\\n\\374\\377\\217\\305\\301\\3754\\351\\374\\377\\003\\016\\335\\374\\\\\\013\\374\\3776;\\206\\372p\\271\\374\\377\\022Tz\\371t\\321\\373\\377\\333Ff\\372`\\325\\373\\377\\002vn\\373t\\321\\374\\377\\313\\251\\256\\374X\\177\\372\\377\\030\\240F\\375\\244w\\371\\377|\\316\\233\\375L\\317\\372\\377>\\237{\\376\\\\\\230\\367\\377\\223\\377\\343\\3760M\\365\\377@?\\267\\377\\250#\\360\\377dG`\\000,\\000\\355\\377\\003)~\\377@\\272\\354\\377\\021\\230\\345\\377h\\344\\351\\377\\'\\272!\\001\\0049\\345\\377\\276:6\\000\\230m\\342\\377=\\246\\031\\002\\340J\\342\\377_f.\\004\\240_\\342\\377\\267\\007\\331\\002 \\314\\341\\3776hh\\001\\204D\\341\\377\\000\\364?\\000L\\032\\340\\377\\232\\322\\362\\376|\\215\\337\\3771[\\217\\374\\270\\254\\337\\377\\301\\2364\\374l\\275\\341\\377\\214S\\201\\375\\254a\\344\\377\\\"vI\\3768\\320\\347\\377H\\203*\\377\\250\\203\\353\\377\\356!\\030\\001P\\214\\354\\377\\307/n\\002D\\327\\352\\377m\\022\\321\\003\\\\Q\\352\\377\\306N\\254\\004\\\\\\216\\351\\377\\331\\243\\264\\004\\334\\234\\347\\377~\\355\\372\\003\\030\\r\\346\\377\\376\\200\\241\\003\\024\\006\\346\\377\\246\\347\\004\\002h_\\352\\377\\331\\221h\\001\\220\\277\\355\\377\\340\\2778\\002Xw\\356\\377\\255\\322\\247\\002|\\305\\362\\377\\226N\\345\\004<\\336\\367\\377\\177|\\215\\005\\264\\302\\367\\377~h\\251\\00500\\364\\377\\275;V\\004\\244\\025\\363\\377O\\226_\\002`\\\\\\366\\377.\\026w\\002\\374\\254\\366\\377N:&\\002\\004t\\366\\377J\\234\\271\\001D\\260\\365\\377\\341,\\347\\001pe\\366\\377\\004#\\204\\002\\0044\\366\\377\\302\\325\\327\\003\\224\\364\\367\\377cs\\311\\004p\\255\\366\\377e\\021\\316\\005\\320\\330\\362\\377\\311D3\\007d\\\\\\357\\377&\\345\\020\\007\\220\\375\\356\\377\\266V,\\005XS\\353\\377r`#\\004$\\214\\351\\377\\362w\\200\\004\\3600\\351\\377~\\030w\\005(\\020\\351\\377p^\\036\\006D\\260\\350\\377\\303\\374F\\006\\324%\\352\\377\\036\\221Y\\007\\330\\262\\355\\377\\177\\333\\237\\004\\010\\352\\357\\377\\305e\\365\\002Lp\\356\\377^fI\\000\\274\\357\\355\\377\\236\\206\\332\\375<(\\353\\377A\\355&\\374\\324Y\\352\\377\\320x\\373\\372\\334\\327\\352\\377.\\206a\\373\\034\\n\\351\\377\\264K9\\373\\024+\\351\\377\\334\\n\\350\\374t\\277\\347\\377\\260{C\\376\\010\\002\\344\\377\\374\\235:\\376\\250G\\345\\377\\330ba\\374L\\330\\350\\3779&\\307\\374\\004\\361\\351\\377\\356\\217B\\372\\370\\355\\352\\377n\\333\\203\\366\\004\\360\\355\\377V\\366^\\365\\350U\\363\\377\\261W!\\367\\340/\\370\\377\\214\\037@\\371<l\\372\\377J0{\\373\\014\\276\\373\\377o\\026J\\375\\300\\007\\367\\377\\322\\306\\217\\374\\370\\313\\364\\3771\\344Z\\372,\\002\\362\\377\\244\\324I\\371`\\255\\361\\377\\224\\033W\\371p\\375\\361\\377=\\3411\\372T!\\364\\377E\\313I\\374 \\\"\\366\\377,H\\r\\376\\014\\362\\366\\377J\\027a\\375\\320\\236\\370\\377\\035\\364\\233\\373\\250\\336\\374\\377&D\\257\\371\\370w\\375\\377\\266|I\\371@\\334\\376\\377\\364NP\\370\\234 \\375\\377\\233M\\343\\366\\370(\\372\\377\\316^\\222\\366l\\330\\370\\377\\227\\253A\\3678\\205\\370\\377\\265\\233\\355\\366\\204)\\367\\377\\0321\\243\\366\\300d\\365\\377%\\037\\245\\367h\\031\\363\\377}\\336\\310\\370L\\362\\365\\377\\263p\\211\\371\\204!\\367\\377\\241F|\\372\\034\\206\\366\\377\\216\\207\\257\\372\\300\\206\\364\\3777\\377\\215\\371\\250\\375\\363\\377\\333\\232\\203\\370\\254\\017\\363\\377\\254\\206^\\367DR\\363\\377\\325X\\027\\366<W\\362\\377\\310\\035\\202\\366\\374\\243\\360\\377_\\360\\323\\370\\224\\'\\361\\377;\\014]\\372X\\271\\361\\377\\325\\276\\350\\372\\274\\373\\357\\377\\262\\274\\217\\373(\\350\\353\\377\\246Q~\\374\\304\\026\\353\\377<\\2046\\376\\314Y\\357\\377\\336o\\254\\377${\\363\\377\\301\\324o\\377T\\347\\364\\377\\262\\324\"\n",
      "  sample_rate: 16000\n",
      "}\n",
      "client_id: \"puckmf\"\n",
      "\n"
     ]
    }
   ],
   "source": [
    "\n",
    "loaded = pickle.load(open(\"./demo/.recordings/recording_puckmf_1749134996.pkl\", \"rb\"))\n",
    "\n",
    "print(loaded)"
   ]
  },
  {
   "cell_type": "code",
   "execution_count": 14,
   "metadata": {},
   "outputs": [],
   "source": [
    "import numpy as np\n",
    "\n",
    "audio = np.frombuffer(loaded.audio.audio_data, dtype=np.int16).reshape(-1, 2)"
   ]
  },
  {
   "cell_type": "code",
   "execution_count": 18,
   "metadata": {},
   "outputs": [],
   "source": [
    "# create a wav file from the audio data\n",
    "\n",
    "import numpy as np\n",
    "import wave\n",
    "\n",
    "audio = np.frombuffer(loaded.audio.audio_data, dtype=np.int16).reshape(-1, 2)\n",
    "\n",
    "with wave.open(\"audio.wav\", \"wb\") as wf:\n",
    "    wf.setnchannels(1)\n",
    "    wf.setsampwidth(2)\n",
    "    wf.setframerate(loaded.audio.sample_rate)\n",
    "    wf.writeframes(audio[:, 0].tobytes())"
   ]
  },
  {
   "cell_type": "code",
   "execution_count": 17,
   "metadata": {},
   "outputs": [
    {
     "data": {
      "text/plain": [
       "(256, 2)"
      ]
     },
     "execution_count": 17,
     "metadata": {},
     "output_type": "execute_result"
    }
   ],
   "source": [
    "audio.shape"
   ]
  },
  {
   "cell_type": "code",
   "execution_count": null,
   "metadata": {},
   "outputs": [],
   "source": []
  }
 ],
 "metadata": {
  "kernelspec": {
   "display_name": ".venv",
   "language": "python",
   "name": "python3"
  },
  "language_info": {
   "codemirror_mode": {
    "name": "ipython",
    "version": 3
   },
   "file_extension": ".py",
   "mimetype": "text/x-python",
   "name": "python",
   "nbconvert_exporter": "python",
   "pygments_lexer": "ipython3",
   "version": "3.13.3"
  }
 },
 "nbformat": 4,
 "nbformat_minor": 2
}
